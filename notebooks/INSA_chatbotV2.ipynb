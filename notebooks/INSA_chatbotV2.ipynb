{
 "cells": [
  {
   "cell_type": "code",
   "execution_count": 16,
   "metadata": {},
   "outputs": [
    {
     "name": "stdout",
     "output_type": "stream",
     "text": [
      "/opt/conda/envs/Python-3.7-OpenCE/lib/python3.7/site-packages/secretstorage/dhcrypto.py:16: CryptographyDeprecationWarning: int_from_bytes is deprecated, use int.from_bytes instead\n",
      "  from cryptography.utils import int_from_bytes\n",
      "/opt/conda/envs/Python-3.7-OpenCE/lib/python3.7/site-packages/secretstorage/util.py:25: CryptographyDeprecationWarning: int_from_bytes is deprecated, use int.from_bytes instead\n",
      "  from cryptography.utils import int_from_bytes\n",
      "Requirement already up-to-date: ibm-watson>=5.2.2 in /opt/conda/envs/Python-3.7-OpenCE/lib/python3.7/site-packages (5.2.2)\n",
      "Requirement already satisfied, skipping upgrade: python-dateutil>=2.5.3 in /opt/conda/envs/Python-3.7-OpenCE/lib/python3.7/site-packages (from ibm-watson>=5.2.2) (2.8.1)\n",
      "Requirement already satisfied, skipping upgrade: ibm-cloud-sdk-core==3.*,>=3.3.6 in /opt/conda/envs/Python-3.7-OpenCE/lib/python3.7/site-packages (from ibm-watson>=5.2.2) (3.5.2)\n",
      "Requirement already satisfied, skipping upgrade: requests<3.0,>=2.0 in /opt/conda/envs/Python-3.7-OpenCE/lib/python3.7/site-packages (from ibm-watson>=5.2.2) (2.22.0)\n",
      "Requirement already satisfied, skipping upgrade: websocket-client==1.1.0 in /opt/conda/envs/Python-3.7-OpenCE/lib/python3.7/site-packages (from ibm-watson>=5.2.2) (1.1.0)\n",
      "Requirement already satisfied, skipping upgrade: six>=1.5 in /opt/conda/envs/Python-3.7-OpenCE/lib/python3.7/site-packages (from python-dateutil>=2.5.3->ibm-watson>=5.2.2) (1.15.0)\n",
      "Requirement already satisfied, skipping upgrade: PyJWT<3.0.0,>=2.0.1 in /opt/conda/envs/Python-3.7-OpenCE/lib/python3.7/site-packages (from ibm-cloud-sdk-core==3.*,>=3.3.6->ibm-watson>=5.2.2) (2.0.1)\n",
      "Requirement already satisfied, skipping upgrade: idna<2.9,>=2.5 in /opt/conda/envs/Python-3.7-OpenCE/lib/python3.7/site-packages (from requests<3.0,>=2.0->ibm-watson>=5.2.2) (2.8)\n",
      "Requirement already satisfied, skipping upgrade: urllib3!=1.25.0,!=1.25.1,<1.26,>=1.21.1 in /opt/conda/envs/Python-3.7-OpenCE/lib/python3.7/site-packages (from requests<3.0,>=2.0->ibm-watson>=5.2.2) (1.25.9)\n",
      "Requirement already satisfied, skipping upgrade: certifi>=2017.4.17 in /opt/conda/envs/Python-3.7-OpenCE/lib/python3.7/site-packages (from requests<3.0,>=2.0->ibm-watson>=5.2.2) (2021.5.30)\n",
      "Requirement already satisfied, skipping upgrade: chardet<3.1.0,>=3.0.2 in /opt/conda/envs/Python-3.7-OpenCE/lib/python3.7/site-packages (from requests<3.0,>=2.0->ibm-watson>=5.2.2) (3.0.4)\n"
     ]
    }
   ],
   "source": [
    "#!pip install --upgrade ibm-watson\n",
    "\n",
    "!pip install --upgrade \"ibm-watson>=5.2.2\""
   ]
  },
  {
   "cell_type": "code",
   "execution_count": 17,
   "metadata": {},
   "outputs": [],
   "source": [
    "import json\n",
    "#import sys\n",
    "#import os\n",
    "#sys.path.append(os.path.join(os.getcwd(),'..','..'))\n",
    "import ibm_watson\n"
   ]
  },
  {
   "cell_type": "code",
   "execution_count": 18,
   "metadata": {},
   "outputs": [],
   "source": [
    "from ibm_watson import AssistantV2\n",
    "from ibm_cloud_sdk_core.authenticators import IAMAuthenticator"
   ]
  },
  {
   "cell_type": "code",
   "execution_count": 19,
   "metadata": {},
   "outputs": [],
   "source": [
    "authenticator = IAMAuthenticator('{apikey}')\n",
    "assistant = AssistantV2(\n",
    "    version='2021-06-14',\n",
    "    authenticator=authenticator\n",
    ")\n",
    "\n",
    "assistant.set_service_url('https://api.us-south.assistant.watson.cloud.ibm.com/instances/33234d5d-1376-4479-a882-b69e377df997')\n",
    "\n",
    "#\n",
    "#assistant.set_disable_ssl_verification(True)"
   ]
  },
  {
   "cell_type": "code",
   "execution_count": 22,
   "metadata": {},
   "outputs": [
    {
     "name": "stdout",
     "output_type": "stream",
     "text": [
      "{\n",
      "  \"output\": {\n",
      "    \"intents\": [\n",
      "      {\n",
      "        \"intent\": \"Field_Notice\",\n",
      "        \"confidence\": 1\n",
      "      }\n",
      "    ],\n",
      "    \"entities\": [\n",
      "      {\n",
      "        \"entity\": \"Topics_FieldService\",\n",
      "        \"location\": [\n",
      "          10,\n",
      "          22\n",
      "        ],\n",
      "        \"value\": \"Field Notice\",\n",
      "        \"confidence\": 1\n",
      "      },\n",
      "      {\n",
      "        \"entity\": \"delta-terms\",\n",
      "        \"location\": [\n",
      "          10,\n",
      "          22\n",
      "        ],\n",
      "        \"value\": \"field notice alerts\",\n",
      "        \"confidence\": 1\n",
      "      }\n",
      "    ],\n",
      "    \"generic\": [\n",
      "      {\n",
      "        \"response_type\": \"text\",\n",
      "        \"text\": \"Field notices are alerts published by Cisco for issues or defects with their product line. They could describe issues as harmless as the possibility of a printed label to peel off during unpacking or issues as serious as complete failure of a device due to faulty components. \"\n",
      "      }\n",
      "    ]\n",
      "  },\n",
      "  \"user_id\": \"6f6a9790-3b07-4e1a-8e07-4461c552b86c\",\n",
      "  \"context\": {\n",
      "    \"global\": {\n",
      "      \"system\": {\n",
      "        \"turn_count\": 1,\n",
      "        \"user_id\": \"6f6a9790-3b07-4e1a-8e07-4461c552b86c\"\n",
      "      },\n",
      "      \"session_id\": \"6f6a9790-3b07-4e1a-8e07-4461c552b86c\"\n",
      "    },\n",
      "    \"skills\": {\n",
      "      \"main skill\": {\n",
      "        \"system\": {\n",
      "          \"state\": \"eyJzZXNzaW9uX2lkIjoiNmY2YTk3OTAtM2IwNy00ZTFhLThlMDctNDQ2MWM1NTJiODZjIiwic2tpbGxfcmVmZXJlbmNlIjoibWFpbiBza2lsbCIsImFzc2lzdGFudF9pZCI6IjE2ZjI5NjM4LTVjOTYtNDhmZi1iMGFhLWM0MmY2NzliOTE1MyIsImluaXRpYWxpemVkIjp0cnVlLCJkaWFsb2dfc3RhY2siOlt7ImRpYWxvZ19ub2RlIjoicm9vdCJ9XSwiX25vZGVfb3V0cHV0X21hcCI6eyJub2RlXzdfMTYyNDM5NjUyNTAyMSI6eyIwIjpbMF19fSwibGFzdF9icmFuY2hfbm9kZSI6Im5vZGVfN18xNjI0MzkzNjY0MzA2In0=\"\n",
      "        }\n",
      "      }\n",
      "    }\n",
      "  }\n",
      "}\n"
     ]
    }
   ],
   "source": [
    "\n",
    "response = assistant.message_stateless(\n",
    "    assistant_id='16f29638-5c96-48ff-b0aa-c42f679b9153',\n",
    "    input={\n",
    "        'message_type': 'text',\n",
    "        'text': 'what is a field notice alert'\n",
    "    }\n",
    ").get_result()\n",
    "\n",
    "print(json.dumps(response, indent=2))"
   ]
  },
  {
   "cell_type": "code",
   "execution_count": 35,
   "metadata": {},
   "outputs": [
    {
     "name": "stdout",
     "output_type": "stream",
     "text": [
      "Field notices are alerts published by Cisco for issues or defects with their product line. They could describe issues as harmless as the possibility of a printed label to peel off during unpacking or issues as serious as complete failure of a device due to faulty components. \n"
     ]
    }
   ],
   "source": [
    "chatbot_response = response['output']['generic'][0]['text']\n",
    "print(chatbot_response)"
   ]
  },
  {
   "cell_type": "code",
   "execution_count": 41,
   "metadata": {},
   "outputs": [
    {
     "name": "stdout",
     "output_type": "stream",
     "text": [
      "Field_Notice\n",
      "1\n"
     ]
    }
   ],
   "source": [
    "chatbot_intent = response['output']['intents'][0]['intent']\n",
    "chatbot_intent_confidence = response['output']['intents'][0]['confidence']\n",
    "print(chatbot_intent)\n",
    "print(chatbot_intent_confidence)"
   ]
  },
  {
   "cell_type": "code",
   "execution_count": null,
   "metadata": {},
   "outputs": [],
   "source": []
  }
 ],
 "metadata": {
  "kernelspec": {
   "display_name": "Python 3.7",
   "language": "python",
   "name": "python3"
  },
  "language_info": {
   "codemirror_mode": {
    "name": "ipython",
    "version": 3
   },
   "file_extension": ".py",
   "mimetype": "text/x-python",
   "name": "python",
   "nbconvert_exporter": "python",
   "pygments_lexer": "ipython3",
   "version": "3.7.10"
  }
 },
 "nbformat": 4,
 "nbformat_minor": 1
}
